{
 "metadata": {
  "name": "",
  "signature": "sha256:4d9444232c4e08341176b0159787b04d787f5e887b0c3fb7c3ce6a814640bf8e"
 },
 "nbformat": 3,
 "nbformat_minor": 0,
 "worksheets": [
  {
   "cells": [
    {
     "cell_type": "code",
     "collapsed": false,
     "input": [
      "import pandas as pd\n",
      "training_data = pd.read_csv('/Users/onestar/notebook/kaggle/predict_movie_ratings/train_v2_large.csv', names=('ID', 'user', 'movie', 'rating'))\n",
      "test_data = pd.read_csv('/Users/onestar/notebook/kaggle/predict_movie_ratings/test_v2.csv')\n",
      "test_data['rating'] = 0"
     ],
     "language": "python",
     "metadata": {},
     "outputs": [],
     "prompt_number": 68
    },
    {
     "cell_type": "code",
     "collapsed": false,
     "input": [
      "training_data.head()"
     ],
     "language": "python",
     "metadata": {},
     "outputs": [
      {
       "html": [
        "<div style=\"max-height:1000px;max-width:1500px;overflow:auto;\">\n",
        "<table border=\"1\" class=\"dataframe\">\n",
        "  <thead>\n",
        "    <tr style=\"text-align: right;\">\n",
        "      <th></th>\n",
        "      <th>ID</th>\n",
        "      <th>user</th>\n",
        "      <th>movie</th>\n",
        "      <th>rating</th>\n",
        "    </tr>\n",
        "  </thead>\n",
        "  <tbody>\n",
        "    <tr>\n",
        "      <th>0</th>\n",
        "      <td> 610739</td>\n",
        "      <td> 3704</td>\n",
        "      <td> 3784</td>\n",
        "      <td> 3</td>\n",
        "    </tr>\n",
        "    <tr>\n",
        "      <th>1</th>\n",
        "      <td> 324753</td>\n",
        "      <td> 1924</td>\n",
        "      <td>  802</td>\n",
        "      <td> 3</td>\n",
        "    </tr>\n",
        "    <tr>\n",
        "      <th>2</th>\n",
        "      <td> 808218</td>\n",
        "      <td> 4837</td>\n",
        "      <td> 1387</td>\n",
        "      <td> 4</td>\n",
        "    </tr>\n",
        "    <tr>\n",
        "      <th>3</th>\n",
        "      <td> 133808</td>\n",
        "      <td>  867</td>\n",
        "      <td> 1196</td>\n",
        "      <td> 4</td>\n",
        "    </tr>\n",
        "    <tr>\n",
        "      <th>4</th>\n",
        "      <td> 431858</td>\n",
        "      <td> 2631</td>\n",
        "      <td> 3072</td>\n",
        "      <td> 5</td>\n",
        "    </tr>\n",
        "  </tbody>\n",
        "</table>\n",
        "<p>5 rows \u00d7 4 columns</p>\n",
        "</div>"
       ],
       "metadata": {},
       "output_type": "pyout",
       "prompt_number": 69,
       "text": [
        "       ID  user  movie  rating\n",
        "0  610739  3704   3784       3\n",
        "1  324753  1924    802       3\n",
        "2  808218  4837   1387       4\n",
        "3  133808   867   1196       4\n",
        "4  431858  2631   3072       5\n",
        "\n",
        "[5 rows x 4 columns]"
       ]
      }
     ],
     "prompt_number": 69
    },
    {
     "cell_type": "code",
     "collapsed": false,
     "input": [
      "res = pd.concat([training_data,test_data])"
     ],
     "language": "python",
     "metadata": {},
     "outputs": [],
     "prompt_number": 70
    },
    {
     "cell_type": "code",
     "collapsed": false,
     "input": [
      "res[res.movie==853]"
     ],
     "language": "python",
     "metadata": {},
     "outputs": [
      {
       "html": [
        "<div style=\"max-height:1000px;max-width:1500px;overflow:auto;\">\n",
        "<table border=\"1\" class=\"dataframe\">\n",
        "  <thead>\n",
        "    <tr style=\"text-align: right;\">\n",
        "      <th></th>\n",
        "      <th>ID</th>\n",
        "      <th>user</th>\n",
        "      <th>movie</th>\n",
        "      <th>rating</th>\n",
        "    </tr>\n",
        "  </thead>\n",
        "  <tbody>\n",
        "    <tr>\n",
        "      <th>420297</th>\n",
        "      <td> 219911</td>\n",
        "      <td> 1333</td>\n",
        "      <td> 853</td>\n",
        "      <td> 5</td>\n",
        "    </tr>\n",
        "    <tr>\n",
        "      <th>656418</th>\n",
        "      <td> 871760</td>\n",
        "      <td> 5265</td>\n",
        "      <td> 853</td>\n",
        "      <td> 3</td>\n",
        "    </tr>\n",
        "    <tr>\n",
        "      <th>203   </th>\n",
        "      <td> 862155</td>\n",
        "      <td> 5185</td>\n",
        "      <td> 853</td>\n",
        "      <td> 0</td>\n",
        "    </tr>\n",
        "  </tbody>\n",
        "</table>\n",
        "<p>3 rows \u00d7 4 columns</p>\n",
        "</div>"
       ],
       "metadata": {},
       "output_type": "pyout",
       "prompt_number": 95,
       "text": [
        "            ID  user  movie  rating\n",
        "420297  219911  1333    853       5\n",
        "656418  871760  5265    853       3\n",
        "203     862155  5185    853       0\n",
        "\n",
        "[3 rows x 4 columns]"
       ]
      }
     ],
     "prompt_number": 95
    },
    {
     "cell_type": "code",
     "collapsed": false,
     "input": [
      "res.to_csv('/Users/onestar/notebook/kaggle/predict_movie_ratings/all_test.csv', index=False)"
     ],
     "language": "python",
     "metadata": {},
     "outputs": [],
     "prompt_number": 86
    },
    {
     "cell_type": "code",
     "collapsed": false,
     "input": [
      "fn = '/Users/onestar/notebook/kaggle/predict_movie_ratings/all_test.csv'"
     ],
     "language": "python",
     "metadata": {},
     "outputs": [],
     "prompt_number": 87
    },
    {
     "cell_type": "code",
     "collapsed": false,
     "input": [
      "import recsys.algorithm\n",
      "recsys.algorithm.VERBOSE = True"
     ],
     "language": "python",
     "metadata": {},
     "outputs": [],
     "prompt_number": 88
    },
    {
     "cell_type": "code",
     "collapsed": false,
     "input": [
      "from recsys.algorithm.factorize import SVD\n",
      "svd = SVD()"
     ],
     "language": "python",
     "metadata": {},
     "outputs": [],
     "prompt_number": 89
    },
    {
     "cell_type": "code",
     "collapsed": false,
     "input": [
      "svd.load_data(filename=fn, sep=',', format={'col':1, 'row':2, 'value':3})"
     ],
     "language": "python",
     "metadata": {},
     "outputs": [],
     "prompt_number": 91
    },
    {
     "cell_type": "code",
     "collapsed": false,
     "input": [
      "svd"
     ],
     "language": "python",
     "metadata": {},
     "outputs": [
      {
       "metadata": {},
       "output_type": "pyout",
       "prompt_number": 92,
       "text": [
        "1000209 rows.\n",
        "E.g: (3.0, 3784, 3704)"
       ]
      }
     ],
     "prompt_number": 92
    },
    {
     "cell_type": "code",
     "collapsed": false,
     "input": [
      "# movielens = '/Users/onestar/Downloads/ml-1m/ratings.dat'\n",
      "# svd_t = SVD()\n",
      "# svd_t.load_data(filename=movielens, sep='::', format={'col':0, 'row':1, 'value':2, 'ids': int})"
     ],
     "language": "python",
     "metadata": {},
     "outputs": [],
     "prompt_number": 80
    },
    {
     "cell_type": "code",
     "collapsed": false,
     "input": [
      "# svd_t\n",
      "# 1000209 rows.\n",
      "# E.g: (5.0, 1193, 1)"
     ],
     "language": "python",
     "metadata": {},
     "outputs": [],
     "prompt_number": 81
    },
    {
     "cell_type": "code",
     "collapsed": false,
     "input": [
      "k = 100\n",
      "svd.compute(k=k, min_values=0, pre_normalize=None, mean_center=True, post_normalize=True)"
     ],
     "language": "python",
     "metadata": {},
     "outputs": [],
     "prompt_number": 96
    },
    {
     "cell_type": "code",
     "collapsed": false,
     "input": [
      "# svd.similarity(2683, 1721)"
     ],
     "language": "python",
     "metadata": {},
     "outputs": [
      {
       "metadata": {},
       "output_type": "pyout",
       "prompt_number": 18,
       "text": [
        "0.063396056608631429"
       ]
      }
     ],
     "prompt_number": 18
    },
    {
     "cell_type": "code",
     "collapsed": false,
     "input": [
      "# svd.similar(2683)"
     ],
     "language": "python",
     "metadata": {},
     "outputs": [
      {
       "metadata": {},
       "output_type": "pyout",
       "prompt_number": 17,
       "text": [
        "[(2683, 0.99999999999999978),\n",
        " (1517, 0.71851865495069445),\n",
        " (2694, 0.36602768398328306),\n",
        " (344, 0.35563196866258578),\n",
        " (785, 0.34755529978339328),\n",
        " (19, 0.33137161522993208),\n",
        " (1911, 0.32608414772796385),\n",
        " (2706, 0.32161493967518989),\n",
        " (2502, 0.31905679475349119),\n",
        " (333, 0.30394029301228709)]"
       ]
      }
     ],
     "prompt_number": 17
    },
    {
     "cell_type": "code",
     "collapsed": false,
     "input": [
      "# svd.recommend(2683)"
     ],
     "language": "python",
     "metadata": {},
     "outputs": [
      {
       "metadata": {},
       "output_type": "pyout",
       "prompt_number": 19,
       "text": [
        "[(549, 6.0393629079269289),\n",
        " (3834, 6.0297719057502537),\n",
        " (4979, 5.9732033806249856),\n",
        " (1702, 5.9569087356912593),\n",
        " (4086, 5.9299563380892018),\n",
        " (531, 5.8795867942853084),\n",
        " (3558, 5.7260492117330237),\n",
        " (2340, 5.6169101031857132),\n",
        " (5099, 5.6096825101109236),\n",
        " (2124, 5.602475462940987)]"
       ]
      }
     ],
     "prompt_number": 19
    },
    {
     "cell_type": "code",
     "collapsed": false,
     "input": [
      "svd.predict(853, 5185, MIN_VALUE=0.0, MAX_VALUE=5.0)"
     ],
     "language": "python",
     "metadata": {},
     "outputs": [
      {
       "metadata": {},
       "output_type": "pyout",
       "prompt_number": 97,
       "text": [
        "3.720899210609062"
       ]
      }
     ],
     "prompt_number": 97
    },
    {
     "cell_type": "code",
     "collapsed": false,
     "input": [
      "import pandas as pd\n",
      "test_data = pd.read_csv('/Users/onestar/notebook/kaggle/predict_movie_ratings/test_v2.csv')"
     ],
     "language": "python",
     "metadata": {},
     "outputs": [],
     "prompt_number": 98
    },
    {
     "cell_type": "code",
     "collapsed": false,
     "input": [
      "tmp = test_data"
     ],
     "language": "python",
     "metadata": {},
     "outputs": [],
     "prompt_number": 99
    },
    {
     "cell_type": "code",
     "collapsed": false,
     "input": [
      "def predict(x):\n",
      "#     svd.predict(2683, 5412, 0.0, 5.0)\n",
      "    return svd.predict(x.movie, x.user, 0.0, 5.0)\n",
      "\n",
      "tmp['prediction'] = tmp.apply(predict, axis=1)"
     ],
     "language": "python",
     "metadata": {},
     "outputs": [],
     "prompt_number": 100
    },
    {
     "cell_type": "code",
     "collapsed": false,
     "input": [
      "tmp.head()"
     ],
     "language": "python",
     "metadata": {},
     "outputs": [
      {
       "html": [
        "<div style=\"max-height:1000px;max-width:1500px;overflow:auto;\">\n",
        "<table border=\"1\" class=\"dataframe\">\n",
        "  <thead>\n",
        "    <tr style=\"text-align: right;\">\n",
        "      <th></th>\n",
        "      <th>ID</th>\n",
        "      <th>user</th>\n",
        "      <th>movie</th>\n",
        "      <th>prediction</th>\n",
        "    </tr>\n",
        "  </thead>\n",
        "  <tbody>\n",
        "    <tr>\n",
        "      <th>0</th>\n",
        "      <td> 895537</td>\n",
        "      <td> 5412</td>\n",
        "      <td> 2683</td>\n",
        "      <td> 3.710572</td>\n",
        "    </tr>\n",
        "    <tr>\n",
        "      <th>1</th>\n",
        "      <td> 899740</td>\n",
        "      <td> 5440</td>\n",
        "      <td>  904</td>\n",
        "      <td> 5.000000</td>\n",
        "    </tr>\n",
        "    <tr>\n",
        "      <th>2</th>\n",
        "      <td>  55688</td>\n",
        "      <td>  368</td>\n",
        "      <td> 3717</td>\n",
        "      <td> 3.264221</td>\n",
        "    </tr>\n",
        "    <tr>\n",
        "      <th>3</th>\n",
        "      <td>  63728</td>\n",
        "      <td>  425</td>\n",
        "      <td> 1721</td>\n",
        "      <td> 3.317686</td>\n",
        "    </tr>\n",
        "    <tr>\n",
        "      <th>4</th>\n",
        "      <td> 822012</td>\n",
        "      <td> 4942</td>\n",
        "      <td> 3697</td>\n",
        "      <td> 2.702238</td>\n",
        "    </tr>\n",
        "  </tbody>\n",
        "</table>\n",
        "<p>5 rows \u00d7 4 columns</p>\n",
        "</div>"
       ],
       "metadata": {},
       "output_type": "pyout",
       "prompt_number": 105,
       "text": [
        "       ID  user  movie  prediction\n",
        "0  895537  5412   2683    3.710572\n",
        "1  899740  5440    904    5.000000\n",
        "2   55688   368   3717    3.264221\n",
        "3   63728   425   1721    3.317686\n",
        "4  822012  4942   3697    2.702238\n",
        "\n",
        "[5 rows x 4 columns]"
       ]
      }
     ],
     "prompt_number": 105
    },
    {
     "cell_type": "code",
     "collapsed": false,
     "input": [
      "submission = pd.DataFrame()\n",
      "submission['ID'] = tmp['ID']\n",
      "submission['rating'] = tmp['prediction']"
     ],
     "language": "python",
     "metadata": {},
     "outputs": [],
     "prompt_number": 102
    },
    {
     "cell_type": "code",
     "collapsed": false,
     "input": [
      "submission.to_csv('/Users/onestar/notebook/kaggle/predict_movie_ratings/submmision_svd.csv', index=False)"
     ],
     "language": "python",
     "metadata": {},
     "outputs": [],
     "prompt_number": 104
    },
    {
     "cell_type": "code",
     "collapsed": false,
     "input": [],
     "language": "python",
     "metadata": {},
     "outputs": []
    }
   ],
   "metadata": {}
  }
 ]
}